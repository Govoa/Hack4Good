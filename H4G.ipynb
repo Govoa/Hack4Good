{
  "nbformat": 4,
  "nbformat_minor": 0,
  "metadata": {
    "colab": {
      "provenance": []
    },
    "kernelspec": {
      "name": "python3",
      "display_name": "Python 3"
    },
    "language_info": {
      "name": "python"
    },
    "accelerator": "GPU"
  },
  "cells": [
    {
      "cell_type": "markdown",
      "source": [
        "# Hack For Good 2022 - Telefónica\n",
        "## **Combo Lution**"
      ],
      "metadata": {
        "id": "Qbx6ZPUzbk6K"
      }
    },
    {
      "cell_type": "markdown",
      "source": [
        "### Importación de librerías"
      ],
      "metadata": {
        "id": "ZZDDVnssb7AG"
      }
    },
    {
      "cell_type": "code",
      "source": [
        "import tensorflow as tf\n",
        "from tensorflow.keras.preprocessing.image import ImageDataGenerator\n",
        "import tensorflow_hub as hub\n",
        "from tensorflow.keras import layers\n",
        "import matplotlib.pyplot as plt\n",
        "import shutil\n",
        "import zipfile\n",
        "import glob"
      ],
      "metadata": {
        "id": "NpP64mgNvY4G"
      },
      "execution_count": 27,
      "outputs": []
    },
    {
      "cell_type": "code",
      "source": [
        "IMAGE_SHAPE = (224, 224)\n",
        "BATCH_SIZE = 32"
      ],
      "metadata": {
        "id": "ySsx6kvGDISt"
      },
      "execution_count": 28,
      "outputs": []
    },
    {
      "cell_type": "markdown",
      "source": [
        "### Declaración de funciones"
      ],
      "metadata": {
        "id": "llHAsiGVcLmF"
      }
    },
    {
      "cell_type": "code",
      "source": [
        "def scan_picture(path_to_picture):\n",
        "    img = tf.io.read_file(path_to_picture)\n",
        "    img = tf.image.decode_image(img)\n",
        "    img = tf.image.resize(img, size=[IMAGE_SHAPE[0], IMAGE_SHAPE[1]])\n",
        "    img = img/255.\n",
        "    return img"
      ],
      "metadata": {
        "id": "d8N4qHOBjq0Q"
      },
      "execution_count": 29,
      "outputs": []
    },
    {
      "cell_type": "code",
      "source": [
        "def make_prediction(model_,path_to_picture):\n",
        "    picture = scan_picture(path_to_picture)\n",
        "    return model_.predict(tf.expand_dims(picture, axis=0))"
      ],
      "metadata": {
        "id": "qJdd1Gw1j6n4"
      },
      "execution_count": 30,
      "outputs": []
    },
    {
      "cell_type": "code",
      "source": [
        "def create_and_compile_model(url,number_of_classes=5):\n",
        "  feature_extractor_layer = hub.KerasLayer(url,\n",
        "                                           trainable=False,\n",
        "                                           name=\"feature_extraction_layer\",\n",
        "                                           input_shape=IMAGE_SHAPE+(3,)) \n",
        "\n",
        "  model = tf.keras.Sequential([\n",
        "    feature_extractor_layer,\n",
        "    layers.Dropout(0.5),\n",
        "    layers.Dense(number_of_classes, activation=\"softmax\", name=\"output_layer\")\n",
        "  ])\n",
        "  \n",
        "  model.compile(loss=\"categorical_crossentropy\",\n",
        "                     optimizer=tf.keras.optimizers.Adam(),\n",
        "                     metrics=[\"accuracy\"])\n",
        "  return model"
      ],
      "metadata": {
        "id": "xrrhyoxcHzni"
      },
      "execution_count": 31,
      "outputs": []
    },
    {
      "cell_type": "code",
      "source": [
        "def create_model_dense(model_url, num_classes=5):\n",
        "  feature_extractor_layer = hub.KerasLayer(model_url,\n",
        "                                           trainable=False,\n",
        "                                           name=\"feature_extraction_layer\",\n",
        "                                           input_shape=IMAGE_SHAPE+(3,)) \n",
        "\n",
        "  model = tf.keras.Sequential([\n",
        "    feature_extractor_layer,\n",
        "    layers.Dense(300),\n",
        "    layers.Dense(150),\n",
        "    layers.Dense(num_classes, activation=\"softmax\", name=\"output_layer\")\n",
        "  ])\n",
        "    \n",
        "  return model  "
      ],
      "metadata": {
        "id": "HNoNirj3obJP"
      },
      "execution_count": 8,
      "outputs": []
    },
    {
      "cell_type": "code",
      "source": [
        "def plot_results(history):\n",
        "\n",
        "  loss = history.history[\"loss\"]\n",
        "  accuracy = history.history[\"accuracy\"]\n",
        "  val_loss = history.history[\"val_loss\"]\n",
        "  val_accuracy = history.history[\"val_accuracy\"]\n",
        "\n",
        "  epochs = range(len(history.history[\"loss\"]))\n",
        "\n",
        "  plt.plot(epochs, loss, label=\"training_loss\")\n",
        "  plt.plot(epochs, val_loss, label=\"val_loss\")\n",
        "  plt.title(\"Loss\")\n",
        "  plt.xlabel(\"Epochs\")\n",
        "  plt.legend()\n",
        "\n",
        "  plt.figure()\n",
        "  plt.plot(epochs, accuracy, label=\"training_accuracy\")\n",
        "  plt.plot(epochs, val_accuracy, label=\"val_accuracy\")\n",
        "  plt.title(\"Accuracy\")\n",
        "  plt.xlabel(\"Epochs\")\n",
        "  plt.legend();"
      ],
      "metadata": {
        "id": "uXl4YIFPIgTL"
      },
      "execution_count": 32,
      "outputs": []
    },
    {
      "cell_type": "markdown",
      "source": [
        "### Comprobamos qué tarjeta gráfica nos da Google 😀"
      ],
      "metadata": {
        "id": "rAmMj1fEcVhW"
      }
    },
    {
      "cell_type": "code",
      "execution_count": 33,
      "metadata": {
        "colab": {
          "base_uri": "https://localhost:8080/"
        },
        "id": "LCTEB-FiuYe8",
        "outputId": "9e8b140f-8702-4347-e125-fb7c7daf6b75"
      },
      "outputs": [
        {
          "output_type": "stream",
          "name": "stdout",
          "text": [
            "Sat Oct 22 10:49:49 2022       \n",
            "+-----------------------------------------------------------------------------+\n",
            "| NVIDIA-SMI 460.32.03    Driver Version: 460.32.03    CUDA Version: 11.2     |\n",
            "|-------------------------------+----------------------+----------------------+\n",
            "| GPU  Name        Persistence-M| Bus-Id        Disp.A | Volatile Uncorr. ECC |\n",
            "| Fan  Temp  Perf  Pwr:Usage/Cap|         Memory-Usage | GPU-Util  Compute M. |\n",
            "|                               |                      |               MIG M. |\n",
            "|===============================+======================+======================|\n",
            "|   0  Tesla T4            Off  | 00000000:00:04.0 Off |                    0 |\n",
            "| N/A   61C    P0    29W /  70W |   9016MiB / 15109MiB |      0%      Default |\n",
            "|                               |                      |                  N/A |\n",
            "+-------------------------------+----------------------+----------------------+\n",
            "                                                                               \n",
            "+-----------------------------------------------------------------------------+\n",
            "| Processes:                                                                  |\n",
            "|  GPU   GI   CI        PID   Type   Process name                  GPU Memory |\n",
            "|        ID   ID                                                   Usage      |\n",
            "|=============================================================================|\n",
            "+-----------------------------------------------------------------------------+\n"
          ]
        }
      ],
      "source": [
        "!nvidia-smi"
      ]
    },
    {
      "cell_type": "markdown",
      "source": [
        "### Descargamos el dataset que cuidadosamente ha elaborado el equipo"
      ],
      "metadata": {
        "id": "3OTHgAh8cj6k"
      }
    },
    {
      "cell_type": "code",
      "source": [
        "!wget https://transfer.sh/get/nyuuuN/DatasetH4G.zip"
      ],
      "metadata": {
        "colab": {
          "base_uri": "https://localhost:8080/"
        },
        "id": "SAvFJJwgUozh",
        "outputId": "b9626c34-782b-4e44-dbaf-d5cf03abf7b6"
      },
      "execution_count": 34,
      "outputs": [
        {
          "output_type": "stream",
          "name": "stdout",
          "text": [
            "--2022-10-22 10:49:53--  https://transfer.sh/get/nyuuuN/DatasetH4G.zip\n",
            "Resolving transfer.sh (transfer.sh)... 144.76.136.153, 2a01:4f8:200:1097::2\n",
            "Connecting to transfer.sh (transfer.sh)|144.76.136.153|:443... connected.\n",
            "HTTP request sent, awaiting response... 200 OK\n",
            "Length: 3917523194 (3.6G) [application/zip]\n",
            "Saving to: ‘DatasetH4G.zip’\n",
            "\n",
            "DatasetH4G.zip      100%[===================>]   3.65G  20.6MB/s    in 3m 49s  \n",
            "\n",
            "2022-10-22 10:53:43 (16.3 MB/s) - ‘DatasetH4G.zip’ saved [3917523194/3917523194]\n",
            "\n"
          ]
        }
      ]
    },
    {
      "cell_type": "markdown",
      "source": [
        "### Descomprimimos el dataset"
      ],
      "metadata": {
        "id": "M9OVMNZfczFt"
      }
    },
    {
      "cell_type": "code",
      "source": [
        "zip_ref = zipfile.ZipFile('/content/DatasetH4G.zip')\n",
        "zip_ref.extractall()\n",
        "zip_ref.close()"
      ],
      "metadata": {
        "id": "58ikKNsKVgjR"
      },
      "execution_count": 35,
      "outputs": []
    },
    {
      "cell_type": "markdown",
      "source": [
        "### Cargamos los datos en sus correspondientes generadores"
      ],
      "metadata": {
        "id": "CeGLbO1PdHqn"
      }
    },
    {
      "cell_type": "code",
      "source": [
        "data_dir = \"/content/DatasetH4G\"\n",
        "\n",
        "train_datagen_cont = ImageDataGenerator(rescale=1/255.,\n",
        "                                        validation_split=0.35,\n",
        "                                        )\n",
        "\n",
        "print(\">> Training images:\")\n",
        "training_data = train_datagen_cont.flow_from_directory(data_dir, \n",
        "                                                          target_size=IMAGE_SHAPE,\n",
        "                                                          batch_size=BATCH_SIZE,\n",
        "                                                          class_mode=\"categorical\",\n",
        "                                                          subset=\"training\",\n",
        "                                                          shuffle=True\n",
        "                                                          )\n",
        "\n",
        "print(\">> Testing images:\")\n",
        "validation_data = train_datagen_cont.flow_from_directory(data_dir,\n",
        "                                             target_size=IMAGE_SHAPE,\n",
        "                                             batch_size=BATCH_SIZE,\n",
        "                                             class_mode=\"categorical\",\n",
        "                                             subset=\"validation\")"
      ],
      "metadata": {
        "colab": {
          "base_uri": "https://localhost:8080/"
        },
        "id": "AcHBjkSVXLRx",
        "outputId": "113dba12-1d8f-42d3-d62a-09d922468ba6"
      },
      "execution_count": 37,
      "outputs": [
        {
          "output_type": "stream",
          "name": "stdout",
          "text": [
            ">> Training images:\n",
            "Found 12472 images belonging to 6 classes.\n",
            ">> Testing images:\n",
            "Found 6713 images belonging to 6 classes.\n"
          ]
        }
      ]
    },
    {
      "cell_type": "markdown",
      "source": [
        "### Creamos generadores con las imágenes distorsionadas para aumentar la capacidad de generalización de la red"
      ],
      "metadata": {
        "id": "z5HpTqHrdQ8G"
      }
    },
    {
      "cell_type": "code",
      "source": [
        "train_datagen_augmented = ImageDataGenerator(rescale=1/255.,\n",
        "                                             width_shift_range=0.2,\n",
        "                                             rotation_range=0.2,\n",
        "                                             zoom_range=0.2,\n",
        "                                             height_shift_range=0.2,\n",
        "                                             horizontal_flip=True)\n",
        "\n",
        "train_data_augmented = train_datagen_augmented.flow_from_directory('/content/DatasetH4G',\n",
        "                                                                   target_size=(512, 384),\n",
        "                                                                   batch_size=32,\n",
        "                                                                   class_mode=\"categorical\")"
      ],
      "metadata": {
        "colab": {
          "base_uri": "https://localhost:8080/"
        },
        "id": "5C0bA4X1zWGj",
        "outputId": "8e6c8780-bca0-47cd-dc10-61ea60846614"
      },
      "execution_count": 38,
      "outputs": [
        {
          "output_type": "stream",
          "name": "stdout",
          "text": [
            "Found 19185 images belonging to 6 classes.\n"
          ]
        }
      ]
    },
    {
      "cell_type": "markdown",
      "source": [
        "### Importamos RESNET V2 50 para aplicar aprendizaje por transferencia"
      ],
      "metadata": {
        "id": "_psgQI77dpxY"
      }
    },
    {
      "cell_type": "code",
      "source": [
        "trained_model_url = \"https://tfhub.dev/google/imagenet/resnet_v2_50/feature_vector/4\""
      ],
      "metadata": {
        "id": "g0arODVEHubY"
      },
      "execution_count": 39,
      "outputs": []
    },
    {
      "cell_type": "code",
      "source": [
        "IMAGE_SHAPE + (3,)"
      ],
      "metadata": {
        "colab": {
          "base_uri": "https://localhost:8080/"
        },
        "id": "sQEauBiOHxf-",
        "outputId": "03140387-5e07-4726-8e7b-022a6bce91e8"
      },
      "execution_count": 40,
      "outputs": [
        {
          "output_type": "execute_result",
          "data": {
            "text/plain": [
              "(224, 224, 3)"
            ]
          },
          "metadata": {},
          "execution_count": 40
        }
      ]
    },
    {
      "cell_type": "code",
      "source": [
        "resnet_model = create_and_compile_model(trained_model_url,6)"
      ],
      "metadata": {
        "id": "3-UXg0j2IaIh"
      },
      "execution_count": 41,
      "outputs": []
    },
    {
      "cell_type": "markdown",
      "source": [
        "### **¡Entrenamos!**"
      ],
      "metadata": {
        "id": "VUwmBCGKdBvW"
      }
    },
    {
      "cell_type": "code",
      "source": [
        "resnet_history = resnet_model.fit(training_data,\n",
        "                                  epochs=5,\n",
        "                                  steps_per_epoch=len(training_data),\n",
        "                                  validation_data=validation_data,\n",
        "                                  validation_steps=len(validation_data),\n",
        "                                  shuffle=True)"
      ],
      "metadata": {
        "colab": {
          "base_uri": "https://localhost:8080/"
        },
        "id": "EGuDGeGlId2I",
        "outputId": "061f6a77-b6c5-4d79-b213-ab8fda5704ac"
      },
      "execution_count": 42,
      "outputs": [
        {
          "output_type": "stream",
          "name": "stdout",
          "text": [
            "Epoch 1/5\n",
            "390/390 [==============================] - 443s 1s/step - loss: 0.4750 - accuracy: 0.8411 - val_loss: 1.0206 - val_accuracy: 0.7856\n",
            "Epoch 2/5\n",
            "390/390 [==============================] - 428s 1s/step - loss: 0.2448 - accuracy: 0.9120 - val_loss: 1.1834 - val_accuracy: 0.7919\n",
            "Epoch 3/5\n",
            "390/390 [==============================] - 418s 1s/step - loss: 0.2109 - accuracy: 0.9234 - val_loss: 1.0354 - val_accuracy: 0.7982\n",
            "Epoch 4/5\n",
            "390/390 [==============================] - 432s 1s/step - loss: 0.1934 - accuracy: 0.9298 - val_loss: 1.0147 - val_accuracy: 0.8020\n",
            "Epoch 5/5\n",
            "390/390 [==============================] - 419s 1s/step - loss: 0.1964 - accuracy: 0.9274 - val_loss: 1.1119 - val_accuracy: 0.8023\n"
          ]
        }
      ]
    },
    {
      "cell_type": "markdown",
      "source": [
        "### Observamos los resultados del entrenamiento"
      ],
      "metadata": {
        "id": "D-5bq6B-dHb1"
      }
    },
    {
      "cell_type": "code",
      "source": [
        "plot_results(resnet_history)\n"
      ],
      "metadata": {
        "colab": {
          "base_uri": "https://localhost:8080/",
          "height": 573
        },
        "id": "CPTfmEpOIiCo",
        "outputId": "adf67dc6-d62d-450f-a1f8-8bb1dd411271"
      },
      "execution_count": 43,
      "outputs": [
        {
          "output_type": "display_data",
          "data": {
            "text/plain": [
              "<Figure size 432x288 with 1 Axes>"
            ],
            "image/png": "[encoded data removed]"
          },
          "metadata": {
            "needs_background": "light"
          }
        },
        {
          "output_type": "display_data",
          "data": {
            "text/plain": [
              "<Figure size 432x288 with 1 Axes>"
            ],
            "image/png": "[encoded data removed]"
          },
          "metadata": {
            "needs_background": "light"
          }
        }
      ]
    },
    {
      "cell_type": "markdown",
      "source": [
        "#### Observamos que el modelo sufre overfitting aunque los resultados son prometedores."
      ],
      "metadata": {
        "id": "5puiVvsKfO4Q"
      }
    },
    {
      "cell_type": "code",
      "source": [
        "pred = make_prediction(resnet_model,'/content/fototest.jpg')\n",
        "pred"
      ],
      "metadata": {
        "colab": {
          "base_uri": "https://localhost:8080/"
        },
        "id": "-y-ywv_HkdG4",
        "outputId": "abfc07f7-a129-4691-ad4d-09f949781e90"
      },
      "execution_count": 44,
      "outputs": [
        {
          "output_type": "stream",
          "name": "stdout",
          "text": [
            "1/1 [==============================] - 0s 494ms/step\n"
          ]
        },
        {
          "output_type": "execute_result",
          "data": {
            "text/plain": [
              "array([[9.7392029e-01, 9.4371462e-05, 2.6068274e-06, 4.2391162e-07,\n",
              "        2.2833831e-04, 2.5753967e-02]], dtype=float32)"
            ]
          },
          "metadata": {},
          "execution_count": 44
        }
      ]
    },
    {
      "cell_type": "code",
      "source": [
        "files = glob.glob('pruebaIMG/*')\n",
        "for f in files:\n",
        "  pred = make_prediction(resnet_model,f)\n",
        "  print(pred,f,'\\n',pred.round())"
      ],
      "metadata": {
        "colab": {
          "base_uri": "https://localhost:8080/"
        },
        "id": "Cu-6Y_jRndCB",
        "outputId": "963ef6c5-d128-45d0-d6c8-ceee87a4b069"
      },
      "execution_count": null,
      "outputs": [
        {
          "output_type": "stream",
          "name": "stdout",
          "text": [
            "1/1 [==============================] - 0s 39ms/step\n",
            "[[2.2651415e-04 9.9975961e-01 1.2140516e-05 1.6804542e-07 5.3434883e-07\n",
            "  9.6028907e-07]] pruebaIMG/caja.jpeg \n",
            " [[0. 1. 0. 0. 0. 0.]]\n",
            "1/1 [==============================] - 0s 44ms/step\n",
            "[[6.0610720e-03 9.6839858e-04 5.5039617e-08 9.6828830e-01 2.7138347e-04\n",
            "  2.4410753e-02]] pruebaIMG/uvas.jpeg \n",
            " [[0. 0. 0. 1. 0. 0.]]\n",
            "1/1 [==============================] - 0s 47ms/step\n",
            "[[2.3578776e-01 4.1151813e-01 1.2470073e-01 8.8855617e-05 7.8827180e-02\n",
            "  1.4907733e-01]] pruebaIMG/rotulador.jpeg \n",
            " [[0. 0. 0. 0. 0. 0.]]\n",
            "1/1 [==============================] - 0s 41ms/step\n",
            "[[9.8738724e-01 2.2550372e-05 2.6837080e-07 9.9976623e-06 4.9211364e-04\n",
            "  1.2087809e-02]] pruebaIMG/botella.jpeg \n",
            " [[1. 0. 0. 0. 0. 0.]]\n",
            "1/1 [==============================] - 0s 41ms/step\n",
            "[[2.0721199e-01 1.6596550e-01 3.7746559e-05 2.8126612e-01 5.9758317e-02\n",
            "  2.8576034e-01]] pruebaIMG/emboltorio.jpeg \n",
            " [[0. 0. 0. 0. 0. 0.]]\n",
            "1/1 [==============================] - 0s 25ms/step\n",
            "[[9.7730052e-01 1.3160840e-02 8.6087617e-05 1.5666097e-06 4.4876957e-04\n",
            "  9.0023438e-03]] pruebaIMG/redbull.jpeg \n",
            " [[1. 0. 0. 0. 0. 0.]]\n",
            "1/1 [==============================] - 0s 24ms/step\n",
            "[[6.9367262e-03 9.9168867e-01 1.8854147e-08 3.1667552e-04 8.8567630e-04\n",
            "  1.7224099e-04]] pruebaIMG/cajaMagic.jpeg \n",
            " [[0. 1. 0. 0. 0. 0.]]\n",
            "1/1 [==============================] - 0s 22ms/step\n",
            "[[2.3499770e-02 9.6411097e-01 1.7294096e-05 4.3691456e-04 1.1027485e-02\n",
            "  9.0748194e-04]] pruebaIMG/posit.jpeg \n",
            " [[0. 1. 0. 0. 0. 0.]]\n",
            "1/1 [==============================] - 0s 22ms/step\n",
            "[[4.9591607e-01 4.8846453e-01 8.1821541e-05 3.4133092e-05 1.4979417e-02\n",
            "  5.2410428e-04]] pruebaIMG/cartonPalomitas.jpeg \n",
            " [[0. 0. 0. 0. 0. 0.]]\n",
            "1/1 [==============================] - 0s 23ms/step\n",
            "[[5.2046772e-02 8.3802274e-04 2.3208182e-01 3.6483875e-04 7.1080405e-01\n",
            "  3.8644823e-03]] pruebaIMG/boli.jpeg \n",
            " [[0. 0. 0. 0. 1. 0.]]\n",
            "1/1 [==============================] - 0s 39ms/step\n",
            "[[2.6186728e-01 5.7240909e-01 9.9344061e-06 3.7589011e-04 4.7976028e-02\n",
            "  1.1736181e-01]] pruebaIMG/basoCarton.jpeg \n",
            " [[0. 1. 0. 0. 0. 0.]]\n",
            "1/1 [==============================] - 0s 42ms/step\n",
            "[[0.0430246  0.22281702 0.13256508 0.16738982 0.4255291  0.00867439]] pruebaIMG/cargador.jpeg \n",
            " [[0. 0. 0. 0. 0. 0.]]\n"
          ]
        }
      ]
    },
    {
      "cell_type": "markdown",
      "source": [
        "#### ¡Predice correctamente!"
      ],
      "metadata": {
        "id": "AZ_OMa2thJ0Q"
      }
    },
    {
      "cell_type": "code",
      "source": [
        "resnet_model.save('modelo16')"
      ],
      "metadata": {
        "id": "oDkrLV8FlJ5D"
      },
      "execution_count": 47,
      "outputs": []
    },
    {
      "cell_type": "code",
      "source": [
        "shutil.make_archive('modelo16', 'zip', 'modelo16')"
      ],
      "metadata": {
        "colab": {
          "base_uri": "https://localhost:8080/",
          "height": 35
        },
        "id": "YPTX_mN6roKT",
        "outputId": "460d0090-c6ff-4c4e-ff94-fad5d2ddf4a7"
      },
      "execution_count": 48,
      "outputs": [
        {
          "output_type": "execute_result",
          "data": {
            "text/plain": [
              "'/content/modelo16.zip'"
            ],
            "application/vnd.google.colaboratory.intrinsic+json": {
              "type": "string"
            }
          },
          "metadata": {},
          "execution_count": 48
        }
      ]
    },
    {
      "cell_type": "code",
      "source": [
        "!curl --upload-file /content/modelo16.zip https://transfer.sh/modelo16.zip https://transfer.sh/sFhzGm/modelo16.zip"
      ],
      "metadata": {
        "colab": {
          "base_uri": "https://localhost:8080/"
        },
        "id": "wf7PQdY-r5I8",
        "outputId": "3eab4bcb-3eb9-478e-8690-588ef781919a"
      },
      "execution_count": 50,
      "outputs": [
        {
          "output_type": "stream",
          "name": "stdout",
          "text": [
            "https://transfer.sh/BgvBQm/modelo16.zipNot Found\n"
          ]
        }
      ]
    }
  ]
}