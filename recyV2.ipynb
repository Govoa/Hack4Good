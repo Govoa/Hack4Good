{
 "cells": [
  {
   "cell_type": "code",
   "execution_count": 1,
   "id": "c4615479",
   "metadata": {
    "scrolled": false
   },
   "outputs": [
    {
     "name": "stdout",
     "output_type": "stream",
     "text": [
      "Using cache from 'D:\\UFV\\H4G\\Hack4Good\\copiaRepo\\gradio_cached_examples\\18' directory. If method or examples have changed since last caching, delete this folder to clear cache.\n",
      "Using cache from 'D:\\UFV\\H4G\\Hack4Good\\copiaRepo\\gradio_cached_examples\\20' directory. If method or examples have changed since last caching, delete this folder to clear cache.\n",
      "Using cache from 'D:\\UFV\\H4G\\Hack4Good\\copiaRepo\\gradio_cached_examples\\22' directory. If method or examples have changed since last caching, delete this folder to clear cache.\n",
      "Using cache from 'D:\\UFV\\H4G\\Hack4Good\\copiaRepo\\gradio_cached_examples\\24' directory. If method or examples have changed since last caching, delete this folder to clear cache.\n",
      "Running on local URL:  http://127.0.0.1:7860\n",
      "Running on public URL: https://aa711bd396615e93.gradio.app\n",
      "\n",
      "This share link expires in 72 hours. For free permanent hosting and GPU upgrades (NEW!), check out Spaces: https://huggingface.co/spaces\n"
     ]
    },
    {
     "data": {
      "text/html": [
       "<div><iframe src=\"https://aa711bd396615e93.gradio.app\" width=\"900\" height=\"500\" allow=\"autoplay; camera; microphone; clipboard-read; clipboard-write;\" frameborder=\"0\" allowfullscreen></iframe></div>"
      ],
      "text/plain": [
       "<IPython.core.display.HTML object>"
      ]
     },
     "metadata": {},
     "output_type": "display_data"
    },
    {
     "data": {
      "text/plain": [
       "(<gradio.routes.App at 0x1a42f3cae80>,\n",
       " 'http://127.0.0.1:7860/',\n",
       " 'https://aa711bd396615e93.gradio.app')"
      ]
     },
     "execution_count": 1,
     "metadata": {},
     "output_type": "execute_result"
    }
   ],
   "source": [
    "import numpy as np\n",
    "import gradio as gr\n",
    "import tensorflow as tf\n",
    "from tensorflow import keras\n",
    "from tensorflow.keras.applications.resnet50 import ResNet50\n",
    "from tensorflow.keras.applications.resnet50 import preprocess_input\n",
    "from tensorflow.keras.preprocessing import image\n",
    "\n",
    "\n",
    "# Modelos\n",
    "objectTypeModel = keras.models.load_model(\"modelos/ultimoModeloTipos\")\n",
    "categoryModel = keras.models.load_model(\"modelos/ultimoModeloCategorias16\")\n",
    "\n",
    "# Creacion de etiquetas para los modelos\n",
    "objectTypeLabels = [\"Alimentos\", \"Botellas\", \"Bricks\", \"Cartón\", \"Envases\", \"Latas\",\n",
    "                   \"Papel\", \"Pilas\", \"Ropa\", \"Vidrio\"]\n",
    "categoryLabels = [\"Amarillo\", \"Azul\", \"Gris\", \"Marrón\", \"Punto limpio\", \"Verde\"]\n",
    "\n",
    "# Funcion para convertir una imagen desde su filepath a una matriz\n",
    "def scan_picture(path_to_picture, picture_size):\n",
    "    img = tf.io.read_file(path_to_picture)\n",
    "    img = tf.image.decode_image(img)\n",
    "    img = tf.image.resize(img, size=picture_size)\n",
    "    img = img/255.\n",
    "    return img\n",
    "\n",
    "# Funcion para que los modelos realicen predicciones del tipo de objeto sobre la imagen dada\n",
    "def make_prediction_type(model_, path_to_picture):\n",
    "    picture = scan_picture(path_to_picture, [512, 384])\n",
    "    return model_.predict(tf.expand_dims(picture, axis=0))\n",
    "\n",
    "\n",
    "# Funcion para que los modelos realicen predicciones del contenedor al que pertenece sobre la imagen dada\n",
    "def make_prediction_category(model_, path_to_picture):\n",
    "    picture = scan_picture(path_to_picture, [224, 224])  # 512,384\n",
    "    return model_.predict(tf.expand_dims(picture, axis=0)) # AQUI\n",
    "\n",
    "# nueva funcion para mostrar el texto de informacion del cubo de basura                                         !\n",
    "def mostrar_texto(results):\n",
    "    contenedor = list(results.keys())[0]\n",
    "    \n",
    "    if contenedor == categoryLabels[0]: # Amarillo\n",
    "        return \"Dentro del contenedor amarillo, debemos depositar: botellas y envases de plástico, envases metálicos y bricks\"\n",
    "    elif contenedor == categoryLabels[1]: # Azul\n",
    "        return \"Esto pueden ser envases de alimentación, calzado, productos congelados, papel para envolver, papel de uso diario…\"\n",
    "    elif contenedor == categoryLabels[2]: # Gris\n",
    "        return \"Este es el contenedor para todos aquellos residuos que no se reciclan, pero tampoco pueden usarse para hacer compost. Esta fracción de residuos que no pueden ser reutilizados se depositan en los vertederos o rellenos sanitarios.\"\n",
    "    elif contenedor == categoryLabels[3]: # Marron\n",
    "        return \"Lo que debe depositarse en este contenedor es: restos de alimentos como pieles de frutas, espinas de pescado, plantas, cascaras de huevo o posos; o servilletas y papel de cocina usados.\"\n",
    "    elif contenedor == categoryLabels[4]: # Punto limpio\n",
    "        return \"Los puntos limpios son esos impresionantes lugares donde podemos encontrar una infinidad de tipos de residuos. Se recogen y almacenan temporalmente de forma separada porque podrían ser grandes o peligrosos si se arrojasen en los contenedores convencionales.\"\n",
    "    else: #Verde\n",
    "        return \"Aquí debemos depositar botellas de vidrio (vino, cava…), frascos de vidrio (como perfumes o colonias) o tarros de alimentos (mermeladas, conservas, etc.).\"\n",
    "\n",
    "    \n",
    "# Funcion para clasificar el tipo de objeto\n",
    "def classify_type(img_filepath):\n",
    "    predictions = make_prediction_type(objectTypeModel, img_filepath)\n",
    "    results = {objectTypeLabels[i]: float(predictions[0][i]) for i in range (len(objectTypeLabels))}\n",
    "    return results\n",
    "\n",
    "# Funcion para clasificar la categoria a la que pertenece\n",
    "def classify_category(img_filepath):\n",
    "    predictions = make_prediction_category(categoryModel, img_filepath)\n",
    "    results = {categoryLabels[i]: float(predictions[0][i]) for i in range (len(categoryLabels))}\n",
    "    texto = mostrar_texto(results)\n",
    "    return results, texto \n",
    "\n",
    "# funcion clasificar que reune ambas funciones                                                                     !\n",
    "def classify_general(img_filepath):\n",
    "    res1 = classify_type(img_filepath)\n",
    "    res2,res3 = classify_category(img_filepath)\n",
    "    return res1,res2,res3\n",
    "\n",
    "# Funcion para limpiar los outputs\n",
    "def limpiar(placeholder):\n",
    "    return None, None, None, None\n",
    "\n",
    "# Funcion que añade una imagen de los ejemplos\n",
    "def addPhoto(img):\n",
    "    return img\n",
    "\n",
    "# Interfaz                                                                            !\n",
    "with gr.Blocks() as demo:\n",
    "    gr.Markdown('Recycle Me!')\n",
    "    \n",
    "    with gr.Row():\n",
    "        with gr.Column():\n",
    "            with gr.Row():\n",
    "                imagen = gr.Image(type='filepath')\n",
    "            with gr.Row():\n",
    "                btn1 = gr.Button(\"Reciclar\")\n",
    "                btn2 = gr.Button(\"Limpiar\")\n",
    "        with gr.Column():\n",
    "            with gr.Row():\n",
    "                tipo = gr.Label(num_top_classes = 3)\n",
    "                categoria = gr.Label(num_top_classes = 3)\n",
    "            with gr.Row():\n",
    "                texto = gr.Textbox(label = \"Información sobre este contenedor\")\n",
    "    with gr.Row():\n",
    "        with gr.Column():\n",
    "            gr.Examples(\n",
    "            examples = [\"img/cola.jpg\"],\n",
    "            inputs = [imagen],\n",
    "            outputs= [imagen],\n",
    "            fn = addPhoto,\n",
    "            cache_examples=True\n",
    "            )\n",
    "            \n",
    "    btn1.click(classify_general, inputs=[imagen], outputs=[tipo, categoria, texto])\n",
    "    btn2.click(limpiar, inputs=[imagen], outputs=[imagen, tipo, categoria, texto])\n",
    "\n",
    "\n",
    "demo.launch(share=True)"
   ]
  }
 ],
 "metadata": {
  "kernelspec": {
   "display_name": "Python 3 (ipykernel)",
   "language": "python",
   "name": "python3"
  },
  "language_info": {
   "codemirror_mode": {
    "name": "ipython",
    "version": 3
   },
   "file_extension": ".py",
   "mimetype": "text/x-python",
   "name": "python",
   "nbconvert_exporter": "python",
   "pygments_lexer": "ipython3",
   "version": "3.8.5"
  },
  "vscode": {
   "interpreter": {
    "hash": "8a743fd522e600976806866dd40cd20274ef38415112a35be2a167393d45dd93"
   }
  }
 },
 "nbformat": 4,
 "nbformat_minor": 5
}
