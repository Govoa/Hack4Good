{
 "cells": [
  {
   "cell_type": "code",
   "execution_count": 1,
   "id": "f6b6eb35",
   "metadata": {
    "scrolled": false
   },
   "outputs": [
    {
     "name": "stderr",
     "output_type": "stream",
     "text": [
      "D:\\PUTOANACONDA\\lib\\site-packages\\gradio\\outputs.py:196: UserWarning: Usage of gradio.outputs is deprecated, and will not be supported in the future, please import your components from gradio.components\n",
      "  warnings.warn(\n",
      "D:\\PUTOANACONDA\\lib\\site-packages\\gradio\\deprecation.py:40: UserWarning: The 'type' parameter has been deprecated. Use the Number component instead.\n",
      "  warnings.warn(value)\n"
     ]
    },
    {
     "name": "stdout",
     "output_type": "stream",
     "text": [
      "Running on local URL:  http://127.0.0.1:7870\n",
      "\n",
      "To create a public link, set `share=True` in `launch()`.\n"
     ]
    },
    {
     "data": {
      "text/html": [
       "<div><iframe src=\"http://127.0.0.1:7870/\" width=\"900\" height=\"500\" allow=\"autoplay; camera; microphone; clipboard-read; clipboard-write;\" frameborder=\"0\" allowfullscreen></iframe></div>"
      ],
      "text/plain": [
       "<IPython.core.display.HTML object>"
      ]
     },
     "metadata": {},
     "output_type": "display_data"
    },
    {
     "data": {
      "text/plain": [
       "(<gradio.routes.App at 0x1d8ac07c250>, 'http://127.0.0.1:7870/', None)"
      ]
     },
     "execution_count": 1,
     "metadata": {},
     "output_type": "execute_result"
    }
   ],
   "source": [
    "import numpy as np\n",
    "import gradio as gr\n",
    "import tensorflow as tf\n",
    "from tensorflow import keras\n",
    "from tensorflow.keras.applications.resnet50 import ResNet50\n",
    "from tensorflow.keras.applications.resnet50 import preprocess_input\n",
    "from tensorflow.keras.preprocessing import image\n",
    "\n",
    "\n",
    "# Modelos\n",
    "objectTypeModel = keras.models.load_model(\"modelos/modeloTipos\")\n",
    "categoryModel = keras.models.load_model(\"modelos/modeloCategorias16gb\")\n",
    "\n",
    "# Download human-readable labels for ImageNet.\n",
    "objectTypeLabels = [\"Alimentos\", \"Botellas\", \"Bricks\", \"Cartón\", \"Envases\", \"Latas\",\n",
    "                   \"Papel\", \"Pilas\", \"Ropa\", \"Vidrio\"]\n",
    "categoryLabels = [\"Amarillo\", \"Azul\", \"Gris\", \"Marrón\", \"Punto limpio\", \"Verde\"]\n",
    "\n",
    "# Funcion para convertir una imagen desde su filepath a una matriz\n",
    "def scan_picture(path_to_picture, picture_size):\n",
    "    img = tf.io.read_file(path_to_picture)\n",
    "    img = tf.image.decode_image(img)\n",
    "    img = tf.image.resize(img, size=picture_size)\n",
    "    img = img/255.\n",
    "    return img\n",
    "\n",
    "# Funcion para que los modelos realicen predicciones del tipo de objeto sobre la imagen dada\n",
    "def make_prediction_type(model_, path_to_picture):\n",
    "    picture = scan_picture(path_to_picture, [299, 299])\n",
    "    return model_.predict(tf.expand_dims(picture, axis=0))\n",
    "\n",
    "\n",
    "# Funcion para que los modelos realicen predicciones del contenedor al que pertenece sobre la imagen dada\n",
    "def make_prediction_category(model_, path_to_picture):\n",
    "    picture = scan_picture(path_to_picture, [512, 384])\n",
    "    return model_.predict(tf.expand_dims(picture, axis=0))\n",
    "\n",
    "\n",
    "# Funcion para clasificar el tipo de objeto\n",
    "def classify_type(img_filepath):\n",
    "    predictions = make_prediction_type(objectTypeModel, img_filepath)\n",
    "    results = {objectTypeLabels[i]: float(predictions[0][i]) for i in range (len(objectTypeLabels))}\n",
    "    return results\n",
    "\n",
    "# Funcion para clasificar la categoria a la que pertenece\n",
    "def classify_category(img_filepath):\n",
    "    predictions = make_prediction_category(categoryModel, img_filepath)\n",
    "    results = {categoryLabels[i]: float(predictions[0][i]) for i in range (len(categoryLabels))}\n",
    "    return results\n",
    "\n",
    "\n",
    "objectTypeInterface = gr.Interface(fn=classify_type,\n",
    "             inputs=gr.Image(type=\"filepath\"),\n",
    "             outputs=gr.outputs.Label(num_top_classes=4)\n",
    "        )\n",
    "\n",
    "categoryInterface = gr.Interface(fn = classify_category,\n",
    "             inputs=gr.Image(type=\"filepath\"),\n",
    "             outputs=gr.outputs.Label(num_top_classes=3)\n",
    "             #css=\".footer{display:none !important}\"\n",
    "        )\n",
    "\n",
    "demo = gr.Parallel(\n",
    "    objectTypeInterface, categoryInterface,\n",
    "    title = \"Reciclame esta\",\n",
    "    description = \"Queremos poner algun texto?\",\n",
    "    examples = [\"img/banana.jpg\", \"img/car.jpg\", \"img/cheetah.jpg\", \"img/cola.jpg\", \"img/lion.jpg\"],\n",
    "    theme = \"default\"\n",
    ")\n",
    "\n",
    "demo.launch(share=False)"
   ]
  }
 ],
 "metadata": {
  "kernelspec": {
   "display_name": "Python 3 (ipykernel)",
   "language": "python",
   "name": "python3"
  },
  "language_info": {
   "codemirror_mode": {
    "name": "ipython",
    "version": 3
   },
   "file_extension": ".py",
   "mimetype": "text/x-python",
   "name": "python",
   "nbconvert_exporter": "python",
   "pygments_lexer": "ipython3",
   "version": "3.9.7"
  },
  "vscode": {
   "interpreter": {
    "hash": "8a743fd522e600976806866dd40cd20274ef38415112a35be2a167393d45dd93"
   }
  }
 },
 "nbformat": 4,
 "nbformat_minor": 5
}
